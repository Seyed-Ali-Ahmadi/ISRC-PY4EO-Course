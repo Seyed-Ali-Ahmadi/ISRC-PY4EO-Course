{
 "cells": [
  {
   "cell_type": "markdown",
   "metadata": {},
   "source": [
    "## Types of Operator\n",
    "\n",
    "    Arithmetic Operators\n",
    "    Comparison (Relational) Operators\n",
    "    Assignment Operators\n",
    "    Membership Operators\n",
    "    Identity Operators\n"
   ]
  },
  {
   "cell_type": "markdown",
   "metadata": {},
   "source": [
    "### Arithmetic Operators"
   ]
  },
  {
   "cell_type": "code",
   "execution_count": 1,
   "metadata": {},
   "outputs": [
    {
     "name": "stdout",
     "output_type": "stream",
     "text": [
      "a = 10, b = 20\n",
      "the result of a + b is 30\n",
      "the result of a - b is -10\n",
      "the result of a * b is 200\n",
      "the result of a / b is 0.5\n",
      "the result of a % b is 10\n",
      "the result of a ** b is 100000000000000000000\n",
      "the result of a // b is 0\n"
     ]
    }
   ],
   "source": [
    "a = 10\n",
    "b = 20\n",
    "print('a = {0}, b = {1}'.format(a,b))\n",
    "print('the result of a + b is {}'.format(a + b))        # Addition       -------> Adds values on either side of the operator\n",
    "print('the result of a - b is {}'.format(a - b))        # Subtraction    -------> Subtracts right hand operand from left hand operand\n",
    "print('the result of a * b is {}'.format(a * b))        # Multiplication -------> Multiplies values on either side of the operator\n",
    "print('the result of a / b is {}'.format(a / b))        # Division       -------> Divides left hand operand by right hand operand \n",
    "print('the result of a % b is {}'.format(a % b))        # Modulus        -------> Divides left hand operand by right hand operand and returns remainder\n",
    "print('the result of a ** b is {}'.format(a ** b))      # Exponent       -------> Performs exponential (power) calculation on operators\n",
    "print('the result of a // b is {}'.format(a // b))      # Floor Division -------> The division of operands where the result is the quotient in which the digits after the decimal point are removed. "
   ]
  },
  {
   "cell_type": "markdown",
   "metadata": {},
   "source": [
    "### Comparison Operators"
   ]
  },
  {
   "cell_type": "code",
   "execution_count": 3,
   "metadata": {},
   "outputs": [
    {
     "name": "stdout",
     "output_type": "stream",
     "text": [
      "a = 10, b = 20\n",
      "the result of a == b is False\n",
      "the result of a != b is True\n",
      "the result of a > b is False\n",
      "the result of a < b is True\n",
      "the result of a >= b is False\n",
      "the result of a <= b is True\n",
      "<class 'bool'>\n"
     ]
    }
   ],
   "source": [
    "a = 10\n",
    "b = 20\n",
    "print('a = {0}, b = {1}'.format(a,b))\n",
    "print('the result of a == b is {}'.format(a == b))      # -------> If the values of two operands are equal, then the condition becomes true.\n",
    "print('the result of a != b is {}'.format(a != b))      # -------> If values of two operands are not equal, then condition becomes true.\n",
    "print('the result of a > b is {}'.format(a > b))        # -------> If the value of left operand is greater than the value of right operand, then condition becomes true.\n",
    "print('the result of a < b is {}'.format(a < b))        # -------> If the value of left operand is less than the value of right operand, then condition becomes true.\n",
    "print('the result of a >= b is {}'.format(a >= b))      # -------> If the value of left operand is greater than or equal to the value of right operand, then condition becomes true.\n",
    "print('the result of a <= b is {}'.format(a <= b))      # -------> If the value of left operand is less than or equal to the value of right operand, then condition becomes true.\n",
    "print(type(a <= b))"
   ]
  },
  {
   "cell_type": "markdown",
   "metadata": {},
   "source": [
    "## Assignment Operators"
   ]
  },
  {
   "cell_type": "code",
   "execution_count": null,
   "metadata": {
    "collapsed": true
   },
   "outputs": [],
   "source": [
    "a = 10\n",
    "b = 20\n",
    "print('a = {0}, b = {1}'.format(a,b))\n",
    "a = b\n",
    "print('the result of a  = b is {}'.format(a))       #                    -------> Assigns values from right side operands to left side operand\n",
    "a = 10\n",
    "a += b\n",
    "print('the result of a += b is {}'.format(a))       # Add AND            -------> It adds right operand to the left operand and assign the result to left operand\n",
    "a = 10\n",
    "a -= b\n",
    "print('the result of a -= b is {}'.format(a))       # Subtract AND       -------> It subtracts right operand from the left operand and assign the result to left operand\n",
    "a = 10\n",
    "a *= b\n",
    "print('the result of a *= b is {}'.format(a))       # Multiply AND       -------> It multiplies right operand with the left operand and assign the result to left operand\n",
    "a = 10\n",
    "a /= b\n",
    "print('the result of a /= b is {}'.format(a))       # Divide AND         -------> It divides left operand with the right operand and assign the result to left operand\n",
    "a = 10\n",
    "a %= b\n",
    "print('the result of a %= b is {}'.format(a))       # Modulus AND        -------> It takes modulus using two operands and assign the result to left operand\n",
    "a = 10\n",
    "a **= b\n",
    "print('the result of a **= b is {}'.format(a))     # Exponent AND       -------> Performs exponential (power) calculation on operators and assign value to the left operand\n",
    "a = 10\n",
    "a //= b\n",
    "print('the result of a //= b is {}'.format(a))     # Floor Devision AND -------> It performs floor division on operators and assign value to the left operand"
   ]
  },
  {
   "cell_type": "markdown",
   "metadata": {},
   "source": [
    "### Membership Operators"
   ]
  },
  {
   "cell_type": "code",
   "execution_count": null,
   "metadata": {
    "collapsed": true
   },
   "outputs": [],
   "source": [
    "a = 1\n",
    "b=(1,2,3,6,5)\n",
    "print('the result of a in b is {}'.format(a in b))         # -------> Evaluates to true if it finds a variable in the specified sequence and false otherwise.\n",
    "print('the result of a not in b is {}'.format(a not in b)) # -------> Evaluates to true if it does not finds a variable in the specified sequence and false otherwise.\n"
   ]
  },
  {
   "cell_type": "markdown",
   "metadata": {},
   "source": [
    "### Identity Operators"
   ]
  },
  {
   "cell_type": "code",
   "execution_count": null,
   "metadata": {
    "collapsed": true
   },
   "outputs": [],
   "source": [
    "a = None\n",
    "b=(1,2,3,6,5)\n",
    "print('the result of a is b is {}'.format(a is b))         # -------> Evaluates to true if the variables on either side of the operator point to the same object and false otherwise.\n",
    "print('the result of a is not b is {}'.format(a is not b)) # -------> Evaluates to false if the variables on either side of the operator point to the same object and true otherwise."
   ]
  },
  {
   "cell_type": "markdown",
   "metadata": {},
   "source": [
    "_:)_"
   ]
  }
 ],
 "metadata": {
  "kernelspec": {
   "display_name": "Python 3",
   "language": "python",
   "name": "python3"
  },
  "language_info": {
   "codemirror_mode": {
    "name": "ipython",
    "version": 3
   },
   "file_extension": ".py",
   "mimetype": "text/x-python",
   "name": "python",
   "nbconvert_exporter": "python",
   "pygments_lexer": "ipython3",
   "version": "3.6.2"
  },
  "widgets": {
   "state": {},
   "version": "1.1.2"
  }
 },
 "nbformat": 4,
 "nbformat_minor": 2
}
