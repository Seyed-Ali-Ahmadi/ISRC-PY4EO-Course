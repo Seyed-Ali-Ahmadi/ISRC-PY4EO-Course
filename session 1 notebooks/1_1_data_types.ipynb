{
 "cells": [
  {
   "cell_type": "markdown",
   "metadata": {},
   "source": [
    "### Assigning Values to Variables"
   ]
  },
  {
   "cell_type": "code",
   "execution_count": 1,
   "metadata": {},
   "outputs": [
    {
     "name": "stdout",
     "output_type": "stream",
     "text": [
      "100\n",
      "Ali\n",
      "185.5\n"
     ]
    }
   ],
   "source": [
    "counter = 100\n",
    "name = 'Ali'\n",
    "height = 185.5\n",
    "print(counter)\n",
    "print(name)\n",
    "print(height)"
   ]
  },
  {
   "cell_type": "markdown",
   "metadata": {},
   "source": [
    "### Multiple Assignment"
   ]
  },
  {
   "cell_type": "code",
   "execution_count": 2,
   "metadata": {},
   "outputs": [
    {
     "name": "stdout",
     "output_type": "stream",
     "text": [
      "1 1 1\n",
      "1 2 john\n"
     ]
    }
   ],
   "source": [
    "a = b = c = 1\n",
    "print(a,b,c)\n",
    "a, b, c = 1,2,\"john\"\n",
    "print(a,b,c)"
   ]
  },
  {
   "cell_type": "markdown",
   "metadata": {},
   "source": [
    "## Standard Data Types\n",
    "\n",
    "    Numbers\n",
    "    String\n",
    "    Tuple\n",
    "    Set\n",
    "    List\n",
    "    Dictionary\n"
   ]
  },
  {
   "cell_type": "markdown",
   "metadata": {},
   "source": [
    "### Numbers"
   ]
  },
  {
   "cell_type": "code",
   "execution_count": 4,
   "metadata": {},
   "outputs": [
    {
     "data": {
      "text/plain": [
       "1"
      ]
     },
     "execution_count": 4,
     "metadata": {},
     "output_type": "execute_result"
    }
   ],
   "source": [
    "var_1 = 1\n",
    "var_2 = 10\n",
    "var_1"
   ]
  },
  {
   "cell_type": "code",
   "execution_count": 5,
   "metadata": {
    "collapsed": true
   },
   "outputs": [],
   "source": [
    "del var_1"
   ]
  },
  {
   "cell_type": "code",
   "execution_count": 6,
   "metadata": {
    "scrolled": true
   },
   "outputs": [
    {
     "ename": "NameError",
     "evalue": "name 'var_1' is not defined",
     "output_type": "error",
     "traceback": [
      "\u001b[1;31m---------------------------------------------------------------------------\u001b[0m",
      "\u001b[1;31mNameError\u001b[0m                                 Traceback (most recent call last)",
      "\u001b[1;32m<ipython-input-6-36465f6f2c12>\u001b[0m in \u001b[0;36m<module>\u001b[1;34m()\u001b[0m\n\u001b[1;32m----> 1\u001b[1;33m \u001b[0mvar_1\u001b[0m\u001b[1;33m\u001b[0m\u001b[0m\n\u001b[0m",
      "\u001b[1;31mNameError\u001b[0m: name 'var_1' is not defined"
     ]
    }
   ],
   "source": [
    "var_1"
   ]
  },
  {
   "cell_type": "code",
   "execution_count": 10,
   "metadata": {},
   "outputs": [
    {
     "name": "stdout",
     "output_type": "stream",
     "text": [
      "<class 'complex'>\n"
     ]
    }
   ],
   "source": [
    "var_1 = 10              # int\n",
    "var_2 = 5192436134343   # long\n",
    "var_3 = 0.0             # float\n",
    "var_4 = 3.14j           # complex\n",
    "type(var_4)\n",
    "print(type(var_4))"
   ]
  },
  {
   "cell_type": "code",
   "execution_count": 11,
   "metadata": {},
   "outputs": [
    {
     "name": "stdout",
     "output_type": "stream",
     "text": [
      "10 3.14j\n"
     ]
    }
   ],
   "source": [
    "print(var_1,var_4)"
   ]
  },
  {
   "cell_type": "markdown",
   "metadata": {},
   "source": [
    "### Strings"
   ]
  },
  {
   "cell_type": "code",
   "execution_count": 12,
   "metadata": {},
   "outputs": [
    {
     "name": "stdout",
     "output_type": "stream",
     "text": [
      "Hello World!\n",
      "H\n",
      "llo\n",
      "llo World!\n",
      "Hello World!Hello World!\n",
      "Hello World!TEST\n",
      "12\n"
     ]
    }
   ],
   "source": [
    "_str = 'Hello World!'\n",
    "\n",
    "print(_str)              # Prints complete string\n",
    "print(_str[0])           # Prints first character of the string\n",
    "print(_str[2:5])         # Prints characters starting from 3rd to 5th\n",
    "print(_str[2:])          # Prints string starting from 3rd character\n",
    "print(_str * 2)          # Prints string two times\n",
    "print(_str + \"TEST\")     # Prints concatenated string\n",
    "print(len(_str))         # Prints strings length"
   ]
  },
  {
   "cell_type": "code",
   "execution_count": 13,
   "metadata": {},
   "outputs": [
    {
     "name": "stdout",
     "output_type": "stream",
     "text": [
      "student grade is 19\n",
      "student with 000120230 ssn got 19\n"
     ]
    }
   ],
   "source": [
    "student_grade = 19\n",
    "student_ssn = '000120230'\n",
    "print('student grade is {}'.format(student_grade))\n",
    "print('student with {0} ssn got {1}'.format(student_ssn,student_grade))"
   ]
  },
  {
   "cell_type": "markdown",
   "metadata": {},
   "source": [
    "### Tuples"
   ]
  },
  {
   "cell_type": "code",
   "execution_count": 16,
   "metadata": {},
   "outputs": [
    {
     "name": "stdout",
     "output_type": "stream",
     "text": [
      "('abcd', 786, 2.23, 'Ali', 70.2)\n",
      "abcd\n",
      "(786, 2.23)\n",
      "(2.23, 'Ali', 70.2)\n",
      "(123, 'Ali', 123, 'Ali')\n",
      "('abcd', 786, 2.23, 'Ali', 70.2, 123, 'Ali')\n",
      "5\n",
      "c\n"
     ]
    }
   ],
   "source": [
    "_tuple = ( 'abcd', 786 , 2.23, 'Ali', 70.2  )\n",
    "tiny_tuple = (123, 'Ali')\n",
    "\n",
    "print(_tuple)              # Prints complete tuple\n",
    "print(_tuple[0])           # Prints first element of the tuple\n",
    "print(_tuple[1:3])         # Prints elements starting from 2nd till 3rd \n",
    "print(_tuple[2:])          # Prints elements starting from 3rd element\n",
    "print(tiny_tuple * 2)      # Prints tuple two times\n",
    "print(_tuple + tiny_tuple) # Prints concatenated tupless\n",
    "print(len(_tuple))         # Prints tuples length\n",
    "print(_tuple[0][2])"
   ]
  },
  {
   "cell_type": "code",
   "execution_count": 23,
   "metadata": {},
   "outputs": [
    {
     "name": "stdout",
     "output_type": "stream",
     "text": [
      "True\n",
      "False\n"
     ]
    }
   ],
   "source": [
    "not_a_tuple=(10, 20)\n",
    "print(type(not_a_tuple) is tuple)\n",
    "a = [2, 3]\n",
    "b = [2, 3, 4]\n",
    "print(a in b)"
   ]
  },
  {
   "cell_type": "code",
   "execution_count": 24,
   "metadata": {},
   "outputs": [
    {
     "data": {
      "text/plain": [
       "tuple"
      ]
     },
     "execution_count": 24,
     "metadata": {},
     "output_type": "execute_result"
    }
   ],
   "source": [
    "type(not_a_tuple)"
   ]
  },
  {
   "cell_type": "code",
   "execution_count": 32,
   "metadata": {
    "scrolled": true
   },
   "outputs": [
    {
     "data": {
      "text/plain": [
       "True"
      ]
     },
     "execution_count": 32,
     "metadata": {},
     "output_type": "execute_result"
    }
   ],
   "source": [
    "a_tuple=(10,'ali', 20.12)\n",
    "type(a_tuple) == tuple"
   ]
  },
  {
   "cell_type": "code",
   "execution_count": 28,
   "metadata": {},
   "outputs": [
    {
     "ename": "TypeError",
     "evalue": "'tuple' object does not support item assignment",
     "output_type": "error",
     "traceback": [
      "\u001b[1;31m---------------------------------------------------------------------------\u001b[0m",
      "\u001b[1;31mTypeError\u001b[0m                                 Traceback (most recent call last)",
      "\u001b[1;32m<ipython-input-28-6f0315c9ed79>\u001b[0m in \u001b[0;36m<module>\u001b[1;34m()\u001b[0m\n\u001b[1;32m----> 1\u001b[1;33m \u001b[0ma_tuple\u001b[0m\u001b[1;33m[\u001b[0m\u001b[1;36m0\u001b[0m\u001b[1;33m]\u001b[0m \u001b[1;33m=\u001b[0m \u001b[1;36m15\u001b[0m\u001b[1;33m\u001b[0m\u001b[0m\n\u001b[0m",
      "\u001b[1;31mTypeError\u001b[0m: 'tuple' object does not support item assignment"
     ]
    }
   ],
   "source": [
    "a_tuple[0] = 15"
   ]
  },
  {
   "cell_type": "code",
   "execution_count": 30,
   "metadata": {
    "collapsed": true
   },
   "outputs": [],
   "source": [
    "del a_tuple"
   ]
  },
  {
   "cell_type": "code",
   "execution_count": 36,
   "metadata": {},
   "outputs": [
    {
     "name": "stdout",
     "output_type": "stream",
     "text": [
      "Index of element 10 is 100\n"
     ]
    }
   ],
   "source": [
    "element_index = a_tuple.index(10)\n",
    "print('Index of element 10 is {}'.format(element_index))"
   ]
  },
  {
   "cell_type": "markdown",
   "metadata": {},
   "source": [
    "### Sets"
   ]
  },
  {
   "cell_type": "code",
   "execution_count": 34,
   "metadata": {},
   "outputs": [
    {
     "name": "stdout",
     "output_type": "stream",
     "text": [
      "{45, 'Ali', 5, 15}\n",
      "True\n",
      "{5, 'Ahmad', 'Ali', 45, 15}\n",
      "4\n"
     ]
    }
   ],
   "source": [
    "_set = {'Ali', 45, 5, 5, 5, 5, 15}\n",
    "tiny_set = {'Ahmad', 45}\n",
    "\n",
    "print(_set)                    # Prints complete set\n",
    "print('Ali' in _set)           # Prints first element of the set\n",
    "print(_set | tiny_set)         # Prints concatenated sets\n",
    "print(len(_set))               # Prints sets length"
   ]
  },
  {
   "cell_type": "code",
   "execution_count": 35,
   "metadata": {},
   "outputs": [
    {
     "ename": "TypeError",
     "evalue": "'set' object does not support indexing",
     "output_type": "error",
     "traceback": [
      "\u001b[1;31m---------------------------------------------------------------------------\u001b[0m",
      "\u001b[1;31mTypeError\u001b[0m                                 Traceback (most recent call last)",
      "\u001b[1;32m<ipython-input-35-ad80d3e4f46a>\u001b[0m in \u001b[0;36m<module>\u001b[1;34m()\u001b[0m\n\u001b[1;32m----> 1\u001b[1;33m \u001b[0m_set\u001b[0m\u001b[1;33m[\u001b[0m\u001b[1;36m0\u001b[0m\u001b[1;33m]\u001b[0m\u001b[1;33m\u001b[0m\u001b[0m\n\u001b[0m",
      "\u001b[1;31mTypeError\u001b[0m: 'set' object does not support indexing"
     ]
    }
   ],
   "source": [
    "_set[0]"
   ]
  },
  {
   "cell_type": "code",
   "execution_count": 37,
   "metadata": {},
   "outputs": [
    {
     "name": "stdout",
     "output_type": "stream",
     "text": [
      "{45, 'Ali', 5, 'Pooya', 15}\n"
     ]
    }
   ],
   "source": [
    "_set.add('Pooya')\n",
    "print(_set)"
   ]
  },
  {
   "cell_type": "markdown",
   "metadata": {},
   "source": [
    "### Data Type Conversion"
   ]
  },
  {
   "cell_type": "code",
   "execution_count": 38,
   "metadata": {},
   "outputs": [
    {
     "name": "stdout",
     "output_type": "stream",
     "text": [
      "20 <class 'int'>\n",
      "10 <class 'int'>\n",
      "10.0 <class 'float'>\n",
      "10 <class 'str'>\n",
      "(10, 20, 30) <class 'tuple'>\n",
      "{10, 20} <class 'set'>\n"
     ]
    }
   ],
   "source": [
    "str_to_int = int('20')\n",
    "print(str_to_int, type(str_to_int))\n",
    "\n",
    "float_to_int = int(10.36)\n",
    "print(float_to_int, type(float_to_int))\n",
    "\n",
    "int_to_float = float(10)\n",
    "print(int_to_float, type(int_to_float))\n",
    "\n",
    "int_to_str = str(10)\n",
    "print(int_to_str, type(int_to_str))\n",
    "\n",
    "set_to_tuple = tuple({10,20,20,30})\n",
    "print(set_to_tuple, type(set_to_tuple))\n",
    "\n",
    "tuple_to_set = set((10,20,))\n",
    "print(tuple_to_set, type(tuple_to_set))\n"
   ]
  },
  {
   "cell_type": "markdown",
   "metadata": {},
   "source": [
    "_:)_"
   ]
  }
 ],
 "metadata": {
  "kernelspec": {
   "display_name": "Python 3",
   "language": "python",
   "name": "python3"
  },
  "language_info": {
   "codemirror_mode": {
    "name": "ipython",
    "version": 3
   },
   "file_extension": ".py",
   "mimetype": "text/x-python",
   "name": "python",
   "nbconvert_exporter": "python",
   "pygments_lexer": "ipython3",
   "version": "3.6.2"
  },
  "widgets": {
   "state": {},
   "version": "1.1.2"
  }
 },
 "nbformat": 4,
 "nbformat_minor": 2
}
