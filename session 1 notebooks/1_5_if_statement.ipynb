{
 "cells": [
  {
   "cell_type": "markdown",
   "metadata": {},
   "source": [
    "## if statement\n",
    "Python programming language assumes any non-zero and non-null values as TRUE, and if it is either zero or null, then it is assumed as FALSE value."
   ]
  },
  {
   "cell_type": "code",
   "execution_count": 2,
   "metadata": {},
   "outputs": [
    {
     "name": "stdout",
     "output_type": "stream",
     "text": [
      "val is 100\n",
      "value of expression is 100\n",
      "value of expression is 10\n"
     ]
    },
    {
     "data": {
      "text/plain": [
       "10"
      ]
     },
     "execution_count": 2,
     "metadata": {},
     "output_type": "execute_result"
    }
   ],
   "source": [
    "# if statements\n",
    "# An if statement consists of a boolean expression followed by one or more statements.\n",
    "val = 100\n",
    "\n",
    "if val == 100:\n",
    "    print('val is {}'.format(val))\n",
    "\n",
    "if val == 100:\n",
    "    val = 10\n",
    "    print('value of expression is 100')\n",
    "    if val == 10:\n",
    "        print('value of expression is 10')\n",
    "val"
   ]
  },
  {
   "cell_type": "code",
   "execution_count": null,
   "metadata": {
    "collapsed": true
   },
   "outputs": [],
   "source": [
    "if val == 100:\n",
    "print('value of expression is 100')      "
   ]
  },
  {
   "cell_type": "code",
   "execution_count": null,
   "metadata": {
    "collapsed": true
   },
   "outputs": [],
   "source": [
    "# if...else statements\n",
    "# An if statement can be followed by an optional else statement, which executes when the boolean expression is FALSE.\n",
    "\n",
    "val = 200\n",
    "\n",
    "if val == 100:\n",
    "    print('value of expression is 100')   \n",
    "else:\n",
    "    print('value of expression is not 100')   "
   ]
  },
  {
   "cell_type": "code",
   "execution_count": null,
   "metadata": {
    "collapsed": true
   },
   "outputs": [],
   "source": [
    "# nested if statements\n",
    "# You can use one if or else if statement inside another if or else if(elif) statement(s).\n",
    "\n",
    "val = 1\n",
    "\n",
    "if val > 100:\n",
    "    print('value of expression is more than 100')   \n",
    "elif val == 100:\n",
    "    print('value of expression is 100')   \n",
    "else:\n",
    "    print('value of expression is smaller than 100')   \n"
   ]
  },
  {
   "cell_type": "markdown",
   "metadata": {},
   "source": [
    "_:)_"
   ]
  }
 ],
 "metadata": {
  "kernelspec": {
   "display_name": "Python 3",
   "language": "python",
   "name": "python3"
  },
  "language_info": {
   "codemirror_mode": {
    "name": "ipython",
    "version": 3
   },
   "file_extension": ".py",
   "mimetype": "text/x-python",
   "name": "python",
   "nbconvert_exporter": "python",
   "pygments_lexer": "ipython3",
   "version": "3.6.2"
  },
  "widgets": {
   "state": {},
   "version": "1.1.2"
  }
 },
 "nbformat": 4,
 "nbformat_minor": 2
}
