{
  "nbformat": 4,
  "nbformat_minor": 0,
  "metadata": {
    "colab": {
      "name": "ISRC_session_1.ipynb",
      "provenance": [],
      "collapsed_sections": []
    },
    "kernelspec": {
      "name": "python3",
      "display_name": "Python 3"
    },
    "language_info": {
      "name": "python"
    }
  },
  "cells": [
    {
      "cell_type": "markdown",
      "metadata": {
        "id": "HGvuyL-NGhGu"
      },
      "source": [
        "# First session\n",
        "\n",
        "This is the first session of our Python class.\n",
        "\n",
        "\n",
        "1. Install Anaconda (3.7.x) from [here](https://docs.anaconda.com/anaconda/packages/old-pkg-lists/2021.04/py3.7_win-64/)\n",
        "\n",
        "2. Install IDE. (PyCharm)\n",
        "\n",
        "3. Virtual Environment (Conda) \n",
        "\n",
        "```\n",
        "conda create --prefix=D:path/to/your/folder --no-default-packages python=3.6 numpy pandas\n",
        "```\n",
        "\n",
        "\n",
        "\n",
        "\n",
        "\n"
      ]
    },
    {
      "cell_type": "markdown",
      "metadata": {
        "id": "OZu_63wLKY0v"
      },
      "source": [
        "$\\ln{\\sqrt{5x^2}}$"
      ]
    },
    {
      "cell_type": "markdown",
      "metadata": {
        "id": "DXkinEeBKvK5"
      },
      "source": [
        "## Python Data Types\n",
        "\n",
        "* list   --> [], list()\n",
        "* set   --> {}, set()\n",
        "* dictionary  --> {'Key': Value, ...}, dist()\n",
        "* tuple  --> (), tuple()\n",
        "* character / string\n",
        "* numerical"
      ]
    },
    {
      "cell_type": "code",
      "metadata": {
        "id": "GZZKMijQ6FXJ",
        "colab": {
          "base_uri": "https://localhost:8080/"
        },
        "outputId": "1f739f89-9b53-4c63-b332-872eb9f0a2e8"
      },
      "source": [
        "counter = 1100\n",
        "name = 'Ahmad'\n",
        "var1 = 1.5\n",
        "\n",
        "print(type(counter))\n",
        "print(type(name))\n",
        "print(type(var1))"
      ],
      "execution_count": null,
      "outputs": [
        {
          "output_type": "stream",
          "text": [
            "<class 'int'>\n",
            "<class 'str'>\n",
            "<class 'float'>\n"
          ],
          "name": "stdout"
        }
      ]
    },
    {
      "cell_type": "code",
      "metadata": {
        "colab": {
          "base_uri": "https://localhost:8080/"
        },
        "id": "Z4oi1M2BLlFG",
        "outputId": "a61c66b2-e937-46fd-c510-4cda5b3762c1"
      },
      "source": [
        "LIST = [1, 2, 9, 10, 5, 'ali', 5.68, [1, 8, 9]]\n",
        "print(LIST)"
      ],
      "execution_count": null,
      "outputs": [
        {
          "output_type": "stream",
          "text": [
            "[1, 2, 9, 10, 5, 'ali', 5.68, [1, 8, 9]]\n"
          ],
          "name": "stdout"
        }
      ]
    },
    {
      "cell_type": "code",
      "metadata": {
        "colab": {
          "base_uri": "https://localhost:8080/"
        },
        "id": "u_CqBkp3Mgjj",
        "outputId": "3ff5a84b-ef52-491a-bfc5-031b18c2430c"
      },
      "source": [
        "A = [1, 8, 9, 6, 3, 4, 4, 2, 2, 2, 3]\n",
        "print(A)\n",
        "\n",
        "B = {5, 8, 9, 1, 2, 1, 1, 2}\n",
        "print(B)\n",
        "\n",
        "C = set(A)\n",
        "print(C)"
      ],
      "execution_count": null,
      "outputs": [
        {
          "output_type": "stream",
          "text": [
            "[1, 8, 9, 6, 3, 4, 4, 2, 2, 2, 3]\n",
            "{1, 2, 5, 8, 9}\n",
            "{1, 2, 3, 4, 6, 8, 9}\n"
          ],
          "name": "stdout"
        }
      ]
    },
    {
      "cell_type": "code",
      "metadata": {
        "colab": {
          "base_uri": "https://localhost:8080/"
        },
        "id": "MM3kpRskNPx5",
        "outputId": "c9e06099-8619-4cfe-bde3-9b4be1f7891b"
      },
      "source": [
        "d = {'name': ['Ali', 'Hosein', 'Bob'],\n",
        "     'age': [18, 25, 36]}\n",
        "\n",
        "print(d)"
      ],
      "execution_count": null,
      "outputs": [
        {
          "output_type": "stream",
          "text": [
            "{'name': ['Ali', 'Hosein', 'Bob'], 'age': [18, 25, 36]}\n"
          ],
          "name": "stdout"
        }
      ]
    },
    {
      "cell_type": "code",
      "metadata": {
        "colab": {
          "base_uri": "https://localhost:8080/"
        },
        "id": "jPCNXiuLNzk2",
        "outputId": "5fbad3d9-d0c5-408d-b6b7-a396274cba2e"
      },
      "source": [
        "t = (5, 8, 9, 1, 2, 2)\n",
        "print(type(t), t)"
      ],
      "execution_count": null,
      "outputs": [
        {
          "output_type": "stream",
          "text": [
            "<class 'tuple'> (5, 8, 9, 1, 2, 2)\n"
          ],
          "name": "stdout"
        }
      ]
    },
    {
      "cell_type": "markdown",
      "metadata": {
        "id": "fVL9oF4dN_q3"
      },
      "source": [
        "### Indexing\n"
      ]
    },
    {
      "cell_type": "code",
      "metadata": {
        "colab": {
          "base_uri": "https://localhost:8080/"
        },
        "id": "OtW4TBG9OCxK",
        "outputId": "631e0e24-c64e-4720-b9df-25310cc007ae"
      },
      "source": [
        "print(A, A[4])"
      ],
      "execution_count": null,
      "outputs": [
        {
          "output_type": "stream",
          "text": [
            "[1, 8, 9, 6, 3, 4, 4, 2, 2, 2, 3] 3\n"
          ],
          "name": "stdout"
        }
      ]
    },
    {
      "cell_type": "code",
      "metadata": {
        "colab": {
          "base_uri": "https://localhost:8080/",
          "height": 163
        },
        "id": "c1lUyQviOXrQ",
        "outputId": "128a9143-c7e0-4a25-9a89-a322cd30bef8"
      },
      "source": [
        "C[2]"
      ],
      "execution_count": null,
      "outputs": [
        {
          "output_type": "error",
          "ename": "TypeError",
          "evalue": "ignored",
          "traceback": [
            "\u001b[0;31m---------------------------------------------------------------------------\u001b[0m",
            "\u001b[0;31mTypeError\u001b[0m                                 Traceback (most recent call last)",
            "\u001b[0;32m<ipython-input-33-b41792b1a1a4>\u001b[0m in \u001b[0;36m<module>\u001b[0;34m()\u001b[0m\n\u001b[0;32m----> 1\u001b[0;31m \u001b[0mC\u001b[0m\u001b[0;34m[\u001b[0m\u001b[0;36m2\u001b[0m\u001b[0;34m]\u001b[0m\u001b[0;34m\u001b[0m\u001b[0;34m\u001b[0m\u001b[0m\n\u001b[0m",
            "\u001b[0;31mTypeError\u001b[0m: 'set' object is not subscriptable"
          ]
        }
      ]
    },
    {
      "cell_type": "code",
      "metadata": {
        "colab": {
          "base_uri": "https://localhost:8080/"
        },
        "id": "ftktF1tkOwvV",
        "outputId": "e75c1867-4e2a-44ca-fb22-fc43f09e4bd9"
      },
      "source": [
        "print(A)\n",
        "A[6] = 14\n",
        "print(A)"
      ],
      "execution_count": null,
      "outputs": [
        {
          "output_type": "stream",
          "text": [
            "[1, 8, 9, 6, 3, 4, 4, 2, 2, 2, 3]\n",
            "[1, 8, 9, 6, 3, 4, 14, 2, 2, 2, 3]\n"
          ],
          "name": "stdout"
        }
      ]
    },
    {
      "cell_type": "code",
      "metadata": {
        "colab": {
          "base_uri": "https://localhost:8080/",
          "height": 248
        },
        "id": "yah2lGzsO8Hl",
        "outputId": "ed94ef61-b4fe-4604-9783-4d61e208ed49"
      },
      "source": [
        "print(t)\n",
        "print(t[3])\n",
        "\n",
        "# Tuples are immutable (/mutable).\n",
        "t[3] = 84\n",
        "print(t)"
      ],
      "execution_count": null,
      "outputs": [
        {
          "output_type": "stream",
          "text": [
            "(5, 8, 9, 1, 2, 2)\n",
            "1\n"
          ],
          "name": "stdout"
        },
        {
          "output_type": "error",
          "ename": "TypeError",
          "evalue": "ignored",
          "traceback": [
            "\u001b[0;31m---------------------------------------------------------------------------\u001b[0m",
            "\u001b[0;31mTypeError\u001b[0m                                 Traceback (most recent call last)",
            "\u001b[0;32m<ipython-input-36-b0e5c253b1ae>\u001b[0m in \u001b[0;36m<module>\u001b[0;34m()\u001b[0m\n\u001b[1;32m      2\u001b[0m \u001b[0mprint\u001b[0m\u001b[0;34m(\u001b[0m\u001b[0mt\u001b[0m\u001b[0;34m[\u001b[0m\u001b[0;36m3\u001b[0m\u001b[0;34m]\u001b[0m\u001b[0;34m)\u001b[0m\u001b[0;34m\u001b[0m\u001b[0;34m\u001b[0m\u001b[0m\n\u001b[1;32m      3\u001b[0m \u001b[0;34m\u001b[0m\u001b[0m\n\u001b[0;32m----> 4\u001b[0;31m \u001b[0mt\u001b[0m\u001b[0;34m[\u001b[0m\u001b[0;36m3\u001b[0m\u001b[0;34m]\u001b[0m \u001b[0;34m=\u001b[0m \u001b[0;36m84\u001b[0m\u001b[0;34m\u001b[0m\u001b[0;34m\u001b[0m\u001b[0m\n\u001b[0m\u001b[1;32m      5\u001b[0m \u001b[0mprint\u001b[0m\u001b[0;34m(\u001b[0m\u001b[0mt\u001b[0m\u001b[0;34m)\u001b[0m\u001b[0;34m\u001b[0m\u001b[0;34m\u001b[0m\u001b[0m\n",
            "\u001b[0;31mTypeError\u001b[0m: 'tuple' object does not support item assignment"
          ]
        }
      ]
    },
    {
      "cell_type": "code",
      "metadata": {
        "colab": {
          "base_uri": "https://localhost:8080/"
        },
        "id": "cXDcCNu5PgC8",
        "outputId": "c62a6b5e-14e3-4994-9e45-e6f84c869bdc"
      },
      "source": [
        "print(d)\n",
        "d['age'][0]         # multi-indexing\n",
        "\n",
        "# a(2) --> f(x) = function\n",
        "\n",
        "D = {'name': ['a', 'b', 'c'],\n",
        "     'number': [[2, 3], [4, 5], [5, 6]]}\n",
        "print(D)\n",
        "print(D['number'][1][0])"
      ],
      "execution_count": null,
      "outputs": [
        {
          "output_type": "stream",
          "text": [
            "{'name': ['Ali', 'Hosein', 'Bob'], 'age': [18, 25, 36]}\n",
            "{'name': ['a', 'b', 'c'], 'number': [[2, 3], [4, 5], [5, 6]]}\n",
            "4\n"
          ],
          "name": "stdout"
        }
      ]
    },
    {
      "cell_type": "markdown",
      "metadata": {
        "id": "IlSpNjtQRUq2"
      },
      "source": [
        "## Operators\n",
        "\n",
        "1. *\n",
        "2. +\n",
        "3. /\n",
        "4. -\n",
        "5. **\n",
        "6. @\n",
        "7. %"
      ]
    },
    {
      "cell_type": "code",
      "metadata": {
        "colab": {
          "base_uri": "https://localhost:8080/"
        },
        "id": "xeMWBP1MRQ7d",
        "outputId": "1b662b1d-f57d-4fdd-a802-6abb2e59a262"
      },
      "source": [
        "print([1, 2, 3] + [8, 6, 9])\n",
        "\n",
        "print('Hello World!' * 2)\n",
        "print('a' * 20)\n",
        "\n",
        "s = 'Hello World!'\n",
        "print(s[-6:-1])      # a(end - 1)\n",
        "\n",
        "# [ 2 , 5 )     --> include , exclude\n",
        "print(s[-6:])\n",
        "print(s[:5])\n",
        "\n",
        "print(s + ' Ali ' + s)"
      ],
      "execution_count": null,
      "outputs": [
        {
          "output_type": "stream",
          "text": [
            "[1, 2, 3, 8, 6, 9]\n",
            "Hello World!Hello World!\n",
            "aaaaaaaaaaaaaaaaaaaa\n",
            "World\n",
            "World!\n",
            "Hello\n",
            "Hello World! Ali Hello World!\n"
          ],
          "name": "stdout"
        }
      ]
    },
    {
      "cell_type": "code",
      "metadata": {
        "colab": {
          "base_uri": "https://localhost:8080/"
        },
        "id": "oSo1_zojTCUE",
        "outputId": "2ee907f5-275d-4fd6-d8cd-aa83c97f00b9"
      },
      "source": [
        "student_number = 98111256\n",
        "name = 'John Adams'\n",
        "\n",
        "# John Adams student number is 98111256.\n",
        "\n",
        "print(name + ' student number is ' + str(student_number) + '.')       # casting\n",
        "print('{0} student number is {1}.'.format(name, student_number))"
      ],
      "execution_count": null,
      "outputs": [
        {
          "output_type": "stream",
          "text": [
            "John Adams student number is 98111256.\n",
            "John Adams student number is 98111256.\n"
          ],
          "name": "stdout"
        }
      ]
    },
    {
      "cell_type": "code",
      "metadata": {
        "colab": {
          "base_uri": "https://localhost:8080/"
        },
        "id": "GAMq15T7UATm",
        "outputId": "60b9cda1-7c48-4849-f73b-62517093c60d"
      },
      "source": [
        "# Logical operators\n",
        "A = [1, 8, 9, 6, 3, 4, 4, 2, 2, 2, 3]\n",
        "\n",
        "print(A)\n",
        "print([1, 2] in A)\n",
        "\n",
        "A = A + [[1, 2]]\n",
        "print([1, 2] in A)\n",
        "\n",
        "print(type(A) is tuple)"
      ],
      "execution_count": null,
      "outputs": [
        {
          "output_type": "stream",
          "text": [
            "[1, 8, 9, 6, 3, 4, 4, 2, 2, 2, 3]\n",
            "False\n",
            "True\n",
            "False\n"
          ],
          "name": "stdout"
        }
      ]
    },
    {
      "cell_type": "code",
      "metadata": {
        "colab": {
          "base_uri": "https://localhost:8080/"
        },
        "id": "1Q_ddzZEVbSb",
        "outputId": "f43d3345-2022-4c7e-f162-89c749de370f"
      },
      "source": [
        "a = b = c = 5\n",
        "print(a, b, c)\n",
        "\n",
        "d, e, f = 8, 9, 10\n",
        "print(d, e, f)"
      ],
      "execution_count": null,
      "outputs": [
        {
          "output_type": "stream",
          "text": [
            "5 5 5\n",
            "8 9 10\n"
          ],
          "name": "stdout"
        }
      ]
    },
    {
      "cell_type": "code",
      "metadata": {
        "colab": {
          "base_uri": "https://localhost:8080/"
        },
        "id": "ikXU7Ax7Vrx3",
        "outputId": "93322bb9-6556-4deb-fcaf-21bec86e269b"
      },
      "source": [
        "print(a)\n",
        "print(c)"
      ],
      "execution_count": null,
      "outputs": [
        {
          "output_type": "stream",
          "text": [
            "5\n",
            "5\n"
          ],
          "name": "stdout"
        }
      ]
    },
    {
      "cell_type": "markdown",
      "metadata": {
        "id": "XecHXlm2Wswy"
      },
      "source": [
        "### if / for / while"
      ]
    },
    {
      "cell_type": "code",
      "metadata": {
        "colab": {
          "base_uri": "https://localhost:8080/"
        },
        "id": "pMjlHD9XWsMe",
        "outputId": "da45c409-c179-4d93-8701-522680684569"
      },
      "source": [
        "i = 0\n",
        "if i < 10:\n",
        "    print(i)\n",
        "    b = 2\n",
        "    print(b)\n",
        "\n",
        "print('Out')"
      ],
      "execution_count": null,
      "outputs": [
        {
          "output_type": "stream",
          "text": [
            "0\n",
            "2\n",
            "Out\n"
          ],
          "name": "stdout"
        }
      ]
    },
    {
      "cell_type": "code",
      "metadata": {
        "colab": {
          "base_uri": "https://localhost:8080/"
        },
        "id": "HGzzdmLfYGxM",
        "outputId": "620b10dd-a6ed-428f-ab84-838702782e88"
      },
      "source": [
        "A"
      ],
      "execution_count": null,
      "outputs": [
        {
          "output_type": "execute_result",
          "data": {
            "text/plain": [
              "[1, 8, 9, 6, 3, 4, 4, 2, 2, 2, 3, [1, 2]]"
            ]
          },
          "metadata": {},
          "execution_count": 98
        }
      ]
    },
    {
      "cell_type": "code",
      "metadata": {
        "colab": {
          "base_uri": "https://localhost:8080/"
        },
        "id": "5GPV6hsHXpqE",
        "outputId": "59bd9ca8-ff61-49a5-ebed-0b89eac49da5"
      },
      "source": [
        "counter = 1\n",
        "\n",
        "for i in range(10, 20):         # for i = 1:10\n",
        "    print(counter)\n",
        "    counter += i\n",
        "\n",
        "print('---------------------------')\n",
        "for j in A:     # enumerate\n",
        "    print(j * 3)"
      ],
      "execution_count": null,
      "outputs": [
        {
          "output_type": "stream",
          "text": [
            "1\n",
            "11\n",
            "22\n",
            "34\n",
            "47\n",
            "61\n",
            "76\n",
            "92\n",
            "109\n",
            "127\n",
            "---------------------------\n",
            "3\n",
            "24\n",
            "27\n",
            "18\n",
            "9\n",
            "12\n",
            "12\n",
            "6\n",
            "6\n",
            "6\n",
            "9\n",
            "[1, 2, 1, 2, 1, 2]\n"
          ],
          "name": "stdout"
        }
      ]
    },
    {
      "cell_type": "markdown",
      "metadata": {
        "id": "Aq16pifcWKpV"
      },
      "source": [
        "# Numpy (numerical python)"
      ]
    },
    {
      "cell_type": "code",
      "metadata": {
        "id": "YsYzzpuZWKSv"
      },
      "source": [
        "import numpy as np"
      ],
      "execution_count": null,
      "outputs": []
    },
    {
      "cell_type": "code",
      "metadata": {
        "colab": {
          "base_uri": "https://localhost:8080/"
        },
        "id": "1r2_jcohZiuE",
        "outputId": "c059a846-a2ce-4f44-943d-6ed3c5001b98"
      },
      "source": [
        "Ar = np.array([1, 5, 3, 6, 8])\n",
        "print(Ar[4])\n",
        "\n",
        "Br = np.array([7, 8, 9, 3, 5])\n",
        "print(Ar + Br)\n",
        "\n",
        "print(Ar * Br)\n",
        "\n",
        "print(Ar @ Br)\n",
        "print(sum(Ar * Br))"
      ],
      "execution_count": null,
      "outputs": [
        {
          "output_type": "stream",
          "text": [
            "8\n",
            "[ 8 13 12  9 13]\n",
            "[ 7 40 27 18 40]\n",
            "132\n",
            "132\n"
          ],
          "name": "stdout"
        }
      ]
    },
    {
      "cell_type": "code",
      "metadata": {
        "colab": {
          "base_uri": "https://localhost:8080/"
        },
        "id": "aPIPGicYagPR",
        "outputId": "2b59e234-7813-4a6f-86f9-490d1ff51117"
      },
      "source": [
        "print(Ar.shape)\n",
        "print(type(Br.shape))\n",
        "print(Br.shape)"
      ],
      "execution_count": null,
      "outputs": [
        {
          "output_type": "stream",
          "text": [
            "(5,)\n",
            "<class 'tuple'>\n",
            "(5,)\n"
          ],
          "name": "stdout"
        }
      ]
    },
    {
      "cell_type": "code",
      "metadata": {
        "colab": {
          "base_uri": "https://localhost:8080/"
        },
        "id": "BR7ZHJVOa5sR",
        "outputId": "69cffd61-9e4c-4e55-8851-50da9b9b9843"
      },
      "source": [
        "Cr = np.array([[1, 2, 3, 4]])\n",
        "print(Cr)\n",
        "print(Cr.shape)\n",
        "print(np.ndim(Cr))\n",
        "\n",
        "Dr = np.array([[1, 2, 3], [4, 5, 6]])\n",
        "print(Dr, Dr.shape)\n",
        "\n",
        "Er = np.zeros(Dr.shape, dtype=int)\n",
        "print(Er)\n",
        "Fr = np.zeros_like(Dr)\n",
        "print(Fr)"
      ],
      "execution_count": null,
      "outputs": [
        {
          "output_type": "stream",
          "text": [
            "[[1 2 3 4]]\n",
            "(1, 4)\n",
            "2\n",
            "[[1 2 3]\n",
            " [4 5 6]] (2, 3)\n",
            "[[0 0 0]\n",
            " [0 0 0]]\n",
            "[[0 0 0]\n",
            " [0 0 0]]\n"
          ],
          "name": "stdout"
        }
      ]
    }
  ]
}